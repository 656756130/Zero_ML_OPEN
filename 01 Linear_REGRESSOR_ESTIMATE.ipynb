{
 "cells": [
  {
   "cell_type": "code",
   "execution_count": 5,
   "outputs": [],
   "source": [
    "import numpy as np\n",
    "import matplotlib.pyplot as plt\n",
    "import pandas as pd\n",
    "\n",
    "data = pd.read_csv('Student_Performance.csv')\n",
    "#print(data['Performance_Index'])\n",
    "y = data['Performance_Index']\n",
    "X = data.drop(['Performance_Index'],axis=1)\n",
    "#print(X)"
   ],
   "metadata": {
    "collapsed": false
   }
  },
  {
   "cell_type": "code",
   "execution_count": 6,
   "metadata": {
    "collapsed": true
   },
   "outputs": [
    {
     "data": {
      "text/plain": "(-34.0755880919136,\n array([2.85298205, 1.01843419, 0.61289758, 0.48055975, 0.19380214]))"
     },
     "execution_count": 6,
     "metadata": {},
     "output_type": "execute_result"
    }
   ],
   "source": [
    "# 使用最小二乘法估计线性模型\n",
    "from sklearn.linear_model import LinearRegression\n",
    "lin_reg = LinearRegression()\n",
    "lin_reg.fit(X,y)\n",
    "lin_reg.intercept_,lin_reg.coef_"
   ]
  },
  {
   "cell_type": "code",
   "execution_count": 11,
   "outputs": [
    {
     "data": {
      "text/plain": "(array([-34.74580702]),\n array([2.85413066, 1.00676659, 0.61645623, 0.56539037, 0.27609414]))"
     },
     "execution_count": 11,
     "metadata": {},
     "output_type": "execute_result"
    }
   ],
   "source": [
    "# 使用梯度下降法估计线性模型\n",
    "from sklearn.linear_model import SGDRegressor\n",
    "sgd_reg = SGDRegressor()\n",
    "sgd_reg.fit(X,y)\n",
    "sgd_reg.intercept_,sgd_reg.coef_"
   ],
   "metadata": {
    "collapsed": false
   }
  },
  {
   "cell_type": "code",
   "execution_count": 12,
   "outputs": [
    {
     "data": {
      "text/plain": "(-34.07510675292848,\n array([2.85293969, 1.01843385, 0.61265208, 0.48054147, 0.19380107]))"
     },
     "execution_count": 12,
     "metadata": {},
     "output_type": "execute_result"
    }
   ],
   "source": [
    "# 使用岭回归估计线性模型\n",
    "from sklearn.linear_model import Ridge\n",
    "ridge_reg = Ridge(alpha=1,solver='cholesky')\n",
    "ridge_reg.fit(X,y)\n",
    "ridge_reg.intercept_,ridge_reg.coef_"
   ],
   "metadata": {
    "collapsed": false
   }
  },
  {
   "cell_type": "code",
   "execution_count": 13,
   "outputs": [
    {
     "data": {
      "text/plain": "(-33.4947819888976,\n array([2.83858887, 1.01820802, 0.21107349, 0.44314152, 0.18288213]))"
     },
     "execution_count": 13,
     "metadata": {},
     "output_type": "execute_result"
    }
   ],
   "source": [
    "# 使用Lasso回归估计线性模型\n",
    "from sklearn.linear_model import Lasso\n",
    "lasso_reg = Lasso(alpha=0.1)\n",
    "lasso_reg.fit(X,y)\n",
    "lasso_reg.intercept_,lasso_reg.coef_"
   ],
   "metadata": {
    "collapsed": false
   }
  },
  {
   "cell_type": "code",
   "execution_count": 14,
   "outputs": [
    {
     "data": {
      "text/plain": "(-33.57623974206396,\n array([2.82477209, 1.01813521, 0.34320371, 0.45354796, 0.18771742]))"
     },
     "execution_count": 14,
     "metadata": {},
     "output_type": "execute_result"
    }
   ],
   "source": [
    "# 使用弹性网络估计线性模型\n",
    "from sklearn.linear_model import ElasticNet\n",
    "elastic_net = ElasticNet(alpha=0.1,l1_ratio=0.5)\n",
    "elastic_net.fit(X,y)\n",
    "elastic_net.intercept_,elastic_net.coef_"
   ],
   "metadata": {
    "collapsed": false
   }
  },
  {
   "cell_type": "code",
   "execution_count": 16,
   "outputs": [
    {
     "data": {
      "text/plain": "(-34.07457046567467,\n array([2.85289247, 1.01843346, 0.61237872, 0.48052109, 0.19379988]))"
     },
     "execution_count": 16,
     "metadata": {},
     "output_type": "execute_result"
    }
   ],
   "source": [
    "# 使用极大似然估计估计线性模型\n",
    "from sklearn.linear_model import BayesianRidge\n",
    "bayes_reg = BayesianRidge()\n",
    "bayes_reg.fit(X,y)\n",
    "bayes_reg.intercept_,bayes_reg.coef_"
   ],
   "metadata": {
    "collapsed": false
   }
  },
  {
   "cell_type": "code",
   "execution_count": 30,
   "outputs": [
    {
     "name": "stdout",
     "output_type": "stream",
     "text": [
      "0.9974230318932085\n"
     ]
    }
   ],
   "source": [
    "# 使用随机森林估计线性模型\n",
    "from sklearn.ensemble import RandomForestRegressor\n",
    "forest_reg = RandomForestRegressor()\n",
    "re = forest_reg.fit(X,y)\n",
    "print(re.score(X,y))"
   ],
   "metadata": {
    "collapsed": false
   }
  },
  {
   "cell_type": "code",
   "execution_count": 31,
   "outputs": [
    {
     "data": {
      "text/plain": "(array([-34.03098273]),\n array([[2.85574556, 1.01795479, 0.63881158, 0.4746276 , 0.19005092]]))"
     },
     "execution_count": 31,
     "metadata": {},
     "output_type": "execute_result"
    }
   ],
   "source": [
    "# 使用支持向量机估计线性模型\n",
    "from sklearn.svm import SVR\n",
    "svm_reg = SVR(kernel='linear')\n",
    "svm_reg.fit(X,y)\n",
    "svm_reg.intercept_,svm_reg.coef_"
   ],
   "metadata": {
    "collapsed": false
   }
  },
  {
   "cell_type": "code",
   "execution_count": 32,
   "outputs": [
    {
     "data": {
      "text/plain": "(-34.07092158130558,\n array([2.85296751, 1.01843398, 0.61018092, 0.48024229, 0.19354867]))"
     },
     "execution_count": 32,
     "metadata": {},
     "output_type": "execute_result"
    }
   ],
   "source": [
    "# 使用最大后验概率估计线性模型\n",
    "from sklearn.linear_model import ARDRegression\n",
    "ard_reg = ARDRegression()\n",
    "ard_reg.fit(X,y)\n",
    "ard_reg.intercept_,ard_reg.coef_"
   ],
   "metadata": {
    "collapsed": false
   }
  }
 ],
 "metadata": {
  "kernelspec": {
   "display_name": "Python 3",
   "language": "python",
   "name": "python3"
  },
  "language_info": {
   "codemirror_mode": {
    "name": "ipython",
    "version": 2
   },
   "file_extension": ".py",
   "mimetype": "text/x-python",
   "name": "python",
   "nbconvert_exporter": "python",
   "pygments_lexer": "ipython2",
   "version": "2.7.6"
  }
 },
 "nbformat": 4,
 "nbformat_minor": 0
}
